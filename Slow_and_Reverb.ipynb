{
  "cells": [
    {
      "cell_type": "markdown",
      "metadata": {
        "id": "view-in-github",
        "colab_type": "text"
      },
      "source": [
        "<a href=\"https://colab.research.google.com/github/Ahmed-Hossam-Aldeen/Slowed-Reverb/blob/main/Slow_and_Reverb.ipynb\" target=\"_parent\"><img src=\"https://colab.research.google.com/assets/colab-badge.svg\" alt=\"Open In Colab\"/></a>"
      ]
    },
    {
      "cell_type": "code",
      "execution_count": null,
      "metadata": {
        "id": "ftdTEYwi6-KM"
      },
      "outputs": [],
      "source": [
        "!pip install youtube_dl\n",
        "!pip install pydub\n",
        "!pip install simple_youtube_api\n",
        "!pip install pysndfx\n",
        "!pip install glitch_this"
      ]
    },
    {
      "cell_type": "code",
      "execution_count": null,
      "metadata": {
        "id": "2RtkLY-BxERI"
      },
      "outputs": [],
      "source": [
        "!apt -qq install -y sox"
      ]
    },
    {
      "cell_type": "code",
      "execution_count": 7,
      "metadata": {
        "id": "aKBl6E5ewzX6",
        "colab": {
          "base_uri": "https://localhost:8080/"
        },
        "outputId": "e7609b38-bf4b-47aa-d116-8168dd6f75ad"
      },
      "outputs": [
        {
          "output_type": "stream",
          "name": "stdout",
          "text": [
            "Enter Link: https://www.youtube.com/watch?v=l-i3GBBeBZ4\n",
            "Enter Speed: 0.8\n",
            "[youtube] l-i3GBBeBZ4: Downloading webpage\n",
            "Abyusif - 8_8_G (Prod. Abyusif)-l-i3GBBeBZ4.mp3\n",
            "Abyusif - 8_8_G (Prod. Abyusif) [slowed + reverb].mp3\n",
            "[youtube] l-i3GBBeBZ4: Downloading webpage\n",
            "[download] Destination: Abyusif - 8_8_G (Prod. Abyusif)-l-i3GBBeBZ4.webm\n",
            "[download] 100% of 3.05MiB in 00:48\n",
            "[ffmpeg] Destination: Abyusif - 8_8_G (Prod. Abyusif)-l-i3GBBeBZ4.mp3\n",
            "Deleting original file Abyusif - 8_8_G (Prod. Abyusif)-l-i3GBBeBZ4.webm (pass -k to keep)\n",
            "Abyusif - 8_8_G (Prod. Abyusif) [slowed + reverb]\n",
            "Glitched Image saved in \"glitched_img.jpg\"\n",
            "Time taken to glitch: 0.05449175834655762\n",
            "Time taken to save: 0.030420303344726562\n",
            "Total Time taken: 0.08491253852844238\n",
            "Current version: 1.0.2 | Latest version: 1.0.2\n"
          ]
        },
        {
          "output_type": "stream",
          "name": "stderr",
          "text": [
            "\rUpload:   0% |/                                      | ETA:  --:--:--   0.0 s/B"
          ]
        },
        {
          "output_type": "stream",
          "name": "stdout",
          "text": [
            "Video size: 21333315 bytes\n"
          ]
        },
        {
          "output_type": "stream",
          "name": "stderr",
          "text": [
            "Upload: 100% ||                                      | Time:  0:00:03 316.8 B/s\n"
          ]
        },
        {
          "output_type": "stream",
          "name": "stdout",
          "text": [
            "hEr-O4VXPg0\n",
            "Title: \n",
            "Description: \n",
            " Tags:[]\n"
          ]
        }
      ],
      "source": [
        "#SLOWED---WITH---LINK\n",
        "from __future__ import unicode_literals\n",
        "import youtube_dl\n",
        "import os\n",
        "from scipy.io import wavfile\n",
        "import wave\n",
        "import os\n",
        "import numpy as np\n",
        "import matplotlib.pyplot as plt\n",
        "from pydub import AudioSegment\n",
        "import logging\n",
        "import librosa as lr\n",
        "import soundfile as sf\n",
        "from pysndfx.dsp import AudioEffectsChain\n",
        "\n",
        "link = input(\"Enter Link: \")\n",
        "speed = input(\"Enter Speed: \")\n",
        "upload = \"y\"\n",
        "color = \"red\"\n",
        "ydl_opts = {\n",
        "    #'outtmpl': '/' + str(input) +'.%(mp3)s',\n",
        "    'format': 'bestaudio/best',\n",
        "    'postprocessors': [{\n",
        "        'key': 'FFmpegExtractAudio',\n",
        "        'preferredcodec': 'mp3',\n",
        "        'preferredquality': '320',\n",
        "\n",
        "    }],\n",
        "}\n",
        "\n",
        "with youtube_dl.YoutubeDL(ydl_opts) as ydl:\n",
        "    info_dict = ydl.extract_info(link, download=False)\n",
        "    title = info_dict.get('title', None)\n",
        "    id=video_id = info_dict.get(\"id\", None)\n",
        "    ful= title+' '+\"[slowed + reverb]\"+'.'+'mp3'\n",
        "    con= title+'-'+id+'.'+'mp3'\n",
        "    conc=con.replace(\"|\",\"_\").replace(\"/\",\"_\")\n",
        "    full=ful.replace(\"|\",\"_\").replace(\"/\",\"_\")\n",
        "    print(conc)\n",
        "    print(full)\n",
        "    inputt=title+'.'+'mp3'\n",
        "    inputt= inputt.replace(\"|\",\"_\").replace(\"/\",\"_\")\n",
        "    ydl.download([link])\n",
        "os.rename('./%s'%conc, \"input.mp3\")\n",
        "\n",
        "#------------------------------------------------------------------------------#\n",
        " #Define conversion format function\n",
        "def trans_mp3_to_wav(filepath):\n",
        "    song = AudioSegment.from_mp3(filepath)\n",
        "    song.export(\"temp.wav\", format=\"wav\")\n",
        "trans_mp3_to_wav(\"./input.mp3\")\n",
        "\n",
        "\n",
        "logger = logging.getLogger('pysndfx')\n",
        "logger.setLevel(logging.DEBUG)\n",
        "apply_audio_effects =     (AudioEffectsChain()\n",
        "     .speed(speed)\n",
        "     .reverb()\n",
        "    )\n",
        "infile = './temp.wav'\n",
        "mono, sr = lr.load(infile, sr=None)\n",
        "stereo, _ = lr.load(infile, sr=None, mono=False)\n",
        "outfile = 'output.wav'\n",
        "\n",
        "def test_file_to_file():\n",
        "    apply_audio_effects(infile, outfile)\n",
        "    y = lr.load(outfile, sr=None, mono=False)[0]\n",
        "    sf.write('output.wav', y.T, sr)\n",
        "    assert lr.util.valid_audio(y, mono=False)\n",
        "test_file_to_file()\n",
        "os.remove('./temp.wav')\n",
        "\n",
        "import pydub\n",
        "sound = pydub.AudioSegment.from_wav(\"./output.wav\")\n",
        "sound.export(\"final.mp3\", format=\"mp3\")\n",
        "os.remove('./output.wav')\n",
        "\n",
        "os.rename(\"final.mp3\",\"%s\"%full)\n",
        "os.rename(\"input.mp3\",\"%s\"%inputt)\n",
        "################################################################################\n",
        "if upload == \"y\":\n",
        "  from simple_youtube_api.Channel import Channel\n",
        "  from simple_youtube_api.LocalVideo import LocalVideo\n",
        "  import os\n",
        "  import requests # to get image from the web\n",
        "  import shutil # to save it locally\n",
        "\n",
        "  name = \"%s\" %full\n",
        "  name = name.replace(\".mp3\",\"\")\n",
        "  if len(name)>70:\n",
        "    name=name[0:42]+\" [slowed + reverb]\"\n",
        "  print(name)\n",
        "  os.system(f\"youtube-dl --write-thumbnail --skip-download --output img {link}\")\n",
        "  if os.path.isfile('img.png'):\n",
        "    os.rename(\"img.png\",\"img.jpg\")\n",
        "  elif os.path.isfile('img.webp'):\n",
        "    os.rename(\"img.webp\",\"img.jpg\")\n",
        "\n",
        "  import PIL\n",
        "  from PIL import Image \n",
        "  img = PIL.Image.open(\"img.jpg\")\n",
        "  width, height = img.size\n",
        "  if(width<1000 and height <600):\n",
        "  ###################################################################################################\n",
        "    ## Set up the image URL and filename\n",
        "    image_url = input (\"if Low quality Found, Enter new image link :\") \n",
        "    filename = 'img.jpg'\n",
        "    # Open the url image, set stream to True, this will return the stream content.\n",
        "    r = requests.get(image_url, stream = True)\n",
        "    # Check if the image was retrieved successfully\n",
        "    if r.status_code == 200:\n",
        "        # Set decode_content value to True, otherwise the downloaded image file's size will be zero.\n",
        "        r.raw.decode_content = True\n",
        "\n",
        "        # Open a local file with wb ( write binary ) permission.\n",
        "        with open(filename,'wb') as f:\n",
        "            shutil.copyfileobj(r.raw, f)\n",
        "\n",
        "        print('Image sucessfully Downloaded: ',filename)\n",
        "    else:\n",
        "        print('Image Couldn\\'t be retreived')\n",
        "  #########################################################################################################\n",
        "  !glitch_this img.jpg 2.2 -s -c -f\n",
        "\n",
        "  full2 = \"'\"+full+\"'\"\n",
        "  command = (f'ffmpeg -i {full2} -i glitched_img.jpg -filter_complex \"[0:a]aformat=channel_layouts=mono,showwaves=s=1280x202:mode=line:colors={color}|black[sw];[1][sw]overlay=(W-w)/2:(H-h)/2:format=auto,format=yuv420p[v]\" -map \"[v]\" -map 0:a -movflags +faststart videoMono.mp4')\n",
        "  os.system(command)\n",
        "\n",
        "  # loggin into the channel\n",
        "  channel = Channel()\n",
        "  channel.login(\"./drive/MyDrive/0Slowed files/client_secret.json\", \"./drive/MyDrive/0Slowed files/credentials.storage\")\n",
        "\n",
        "  # setting up the video that is going to be uploaded\n",
        "  video = LocalVideo(file_path=\"videoMono.mp4\")\n",
        "\n",
        "  # setting snippet\n",
        "  video.set_title(name)\n",
        "  video.set_description(\"I don't own music in this video, Uploaded using youtube API and Google Collab\")\n",
        "  video.set_tags([\"this\", \"tag\"])\n",
        "  video.set_category(\"music\")\n",
        "  video.set_default_language(\"en-US\")\n",
        "\n",
        "  # setting status\n",
        "  video.set_embeddable(True)\n",
        "  video.set_license(\"creativeCommon\")\n",
        "  video.set_privacy_status(\"public\")\n",
        "  video.set_public_stats_viewable(True)\n",
        "\n",
        "  # setting thumbnail\n",
        "  video.set_thumbnail_path('glitched_img.jpg')\n",
        "\n",
        "  # uploading video and printing the results\n",
        "  video = channel.upload_video(video)\n",
        "  print(video.id)\n",
        "  print(video)\n",
        "\n",
        "  # liking video\n",
        "  video.like()\n",
        "\n",
        "  os.remove('./videoMono.mp4')"
      ]
    },
    {
      "cell_type": "code",
      "execution_count": null,
      "metadata": {
        "id": "YnZmhS8o2Hlp"
      },
      "outputs": [],
      "source": [
        "from simple_youtube_api.Channel import Channel\n",
        "from simple_youtube_api.LocalVideo import LocalVideo\n",
        "import os\n",
        "import requests # to get image from the web\n",
        "import shutil # to save it locally\n",
        "\n",
        "name = \"%s\" %full\n",
        "print(name)\n",
        "os.system(f\"youtube-dl --write-thumbnail --skip-download --output img {link}\")\n",
        "if os.path.isfile('img.png'):\n",
        " os.rename(\"img.png\",\"img.jpg\")\n",
        "elif os.path.isfile('img.webp'):\n",
        " os.rename(\"img.webp\",\"img.jpg\")\n",
        "\n",
        "###################################################################################################\n",
        "# ## Set up the image URL and filename\n",
        "# image_url = \"https://i.pinimg.com/originals/94/cb/45/94cb454c16bcc05fba36e0e7444488a1.png\"\n",
        "# filename = 'img.jpg'\n",
        "# # Open the url image, set stream to True, this will return the stream content.\n",
        "# r = requests.get(image_url, stream = True)\n",
        "# # Check if the image was retrieved successfully\n",
        "# if r.status_code == 200:\n",
        "#     # Set decode_content value to True, otherwise the downloaded image file's size will be zero.\n",
        "#     r.raw.decode_content = True\n",
        "\n",
        "#     # Open a local file with wb ( write binary ) permission.\n",
        "#     with open(filename,'wb') as f:\n",
        "#         shutil.copyfileobj(r.raw, f)\n",
        "\n",
        "#     print('Image sucessfully Downloaded: ',filename)\n",
        "# else:\n",
        "#     print('Image Couldn\\'t be retreived')\n",
        "#########################################################################################################\n",
        "!glitch_this img.jpg 2.2 -s -c -f\n",
        "\n",
        "full2 = \"'\"+full+\"'\"\n",
        "command = (f'ffmpeg -i {full2} -i img.jpg -filter_complex \"[0:a]aformat=channel_layouts=mono,showwaves=s=1280x202:mode=line:colors=red|black[sw];[1][sw]overlay=(W-w)/2:(H-h)/2:format=auto,format=yuv420p[v]\" -map \"[v]\" -map 0:a -movflags +faststart videoMono.mp4')\n",
        "os.system(command)\n",
        "\n",
        "# loggin into the channel\n",
        "channel = Channel()\n",
        "channel.login(\"./drive/MyDrive/0Slowed files/client_secret.json\", \"./drive/MyDrive/0Slowed files/credentials.storage\")\n",
        "\n",
        "# setting up the video that is going to be uploaded\n",
        "video = LocalVideo(file_path=\"videoMono.mp4\")\n",
        "\n",
        "# setting snippet\n",
        "video.set_title(name)\n",
        "video.set_description(\"I don't own music in this video, Uploaded using youtube API and Google Collab\")\n",
        "video.set_tags([\"this\", \"tag\"])\n",
        "video.set_category(\"music\")\n",
        "video.set_default_language(\"en-US\")\n",
        "\n",
        "# setting status\n",
        "video.set_embeddable(True)\n",
        "video.set_license(\"creativeCommon\")\n",
        "video.set_privacy_status(\"public\")\n",
        "video.set_public_stats_viewable(True)\n",
        "\n",
        "# setting thumbnail\n",
        "video.set_thumbnail_path('glitched_img.jpg')\n",
        "\n",
        "# uploading video and printing the results\n",
        "video = channel.upload_video(video)\n",
        "print(video.id)\n",
        "print(video)\n",
        "\n",
        "# liking video\n",
        "video.like()\n",
        "\n",
        "os.remove('./videoMono.mp4')"
      ]
    },
    {
      "cell_type": "code",
      "execution_count": null,
      "metadata": {
        "id": "JrDG3pSj_nLk"
      },
      "outputs": [],
      "source": [
        "import os\n",
        "\n",
        "print(full)\n",
        "color = \"black\"\n",
        "full2 = \"'\"+full+\"'\"\n",
        "command = (f'ffmpeg -i {full2} -i img.jpg -filter_complex \"[0:a]aformat=channel_layouts=mono,showwaves=s=1280x202:mode=line:colors={color}|black[sw];[1][sw]overlay=(W-w)/2:(H-h)/2:format=auto,format=yuv420p[v]\" -map \"[v]\" -map 0:a -movflags +faststart videoMono.mp4')\n",
        "#os.system(command)\n",
        "print(command)"
      ]
    },
    {
      "cell_type": "code",
      "execution_count": null,
      "metadata": {
        "colab": {
          "base_uri": "https://localhost:8080/"
        },
        "id": "wj2W96tESbkT",
        "outputId": "dbe4e649-a19c-4338-f49e-ef8566960f2c"
      },
      "outputs": [
        {
          "name": "stdout",
          "output_type": "stream",
          "text": [
            "(336, 188)\n"
          ]
        }
      ],
      "source": [
        "# importing the module\n",
        "import PIL\n",
        "from PIL import Image \n",
        "img = PIL.Image.open(\"img.jpg\")\n",
        "width, height = img.size\n",
        "if(width<1200 and height <720):\n",
        "  print(img.size)\n",
        "    "
      ]
    },
    {
      "cell_type": "code",
      "execution_count": null,
      "metadata": {
        "colab": {
          "base_uri": "https://localhost:8080/"
        },
        "id": "pA-SAutLe4Um",
        "outputId": "da95ebcb-43ba-418e-9195-b22e61fe62a1"
      },
      "outputs": [
        {
          "output_type": "stream",
          "name": "stdout",
          "text": [
            "58\n",
            "Abo El Anwar X Lil Baba- Yemken (Officia [slowed + reverb]\n"
          ]
        }
      ],
      "source": [
        "idk = \"Abo El Anwar X Lil Baba- Yemken (Official music video) l ليل بابا - يمكن Xأبو الأنوار [slowed + reverb]\"\n",
        "idk = idk[0:40]+\" [slowed + reverb]\"\n",
        "print(len(idk))\n",
        "print(idk)\n"
      ]
    }
  ],
  "metadata": {
    "colab": {
      "collapsed_sections": [],
      "name": "Slow and Reverb.ipynb",
      "provenance": [],
      "mount_file_id": "1Z42yH_mKF2d9wORn_vpAINgVM8_IfWjm",
      "authorship_tag": "ABX9TyPcEu5NHZnqD9ahFgOE5ktF",
      "include_colab_link": true
    },
    "kernelspec": {
      "display_name": "Python 3",
      "name": "python3"
    },
    "language_info": {
      "name": "python"
    }
  },
  "nbformat": 4,
  "nbformat_minor": 0
}
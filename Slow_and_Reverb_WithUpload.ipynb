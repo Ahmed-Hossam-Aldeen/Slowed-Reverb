{
  "nbformat": 4,
  "nbformat_minor": 0,
  "metadata": {
    "colab": {
      "name": "Slow and Reverb.ipynb",
      "provenance": [],
      "collapsed_sections": [],
      "authorship_tag": "ABX9TyOHaPYYPevnSjBfqRQF/hOF",
      "include_colab_link": true
    },
    "kernelspec": {
      "name": "python3",
      "display_name": "Python 3"
    },
    "language_info": {
      "name": "python"
    }
  },
  "cells": [
    {
      "cell_type": "markdown",
      "metadata": {
        "id": "view-in-github",
        "colab_type": "text"
      },
      "source": [
        "<a href=\"https://colab.research.google.com/github/Ahmed-Hossam-Aldeen/Slowed-Reverb/blob/main/Slow_and_Reverb_WithUpload.ipynb\" target=\"_parent\"><img src=\"https://colab.research.google.com/assets/colab-badge.svg\" alt=\"Open In Colab\"/></a>"
      ]
    },
    {
      "cell_type": "code",
      "execution_count": 38,
      "metadata": {
        "colab": {
          "base_uri": "https://localhost:8080/"
        },
        "id": "aKBl6E5ewzX6",
        "outputId": "c567c4b0-5ed1-4802-a063-a2a13d126680"
      },
      "outputs": [
        {
          "output_type": "stream",
          "name": "stdout",
          "text": [
            "[youtube] KXBWXhK-dO4: Downloading webpage\n",
            "[youtube] KXBWXhK-dO4: Downloading player 326d75a6\n",
            "Slyver - Helm _ سلايفر - حلم (Official Audio) (Prod by Alfy)-KXBWXhK-dO4.mp3\n",
            "[youtube] KXBWXhK-dO4: Downloading webpage\n",
            "[download] Destination: Slyver - Helm _ سلايفر - حلم (Official Audio) (Prod by Alfy)-KXBWXhK-dO4.webm\n",
            "[download] 100% of 4.79MiB in 01:02\n",
            "[ffmpeg] Destination: Slyver - Helm _ سلايفر - حلم (Official Audio) (Prod by Alfy)-KXBWXhK-dO4.mp3\n",
            "Deleting original file Slyver - Helm _ سلايفر - حلم (Official Audio) (Prod by Alfy)-KXBWXhK-dO4.webm (pass -k to keep)\n"
          ]
        }
      ],
      "source": [
        "#SLOWED---WITH---LINK\n",
        "from __future__ import unicode_literals\n",
        "import youtube_dl\n",
        "import os\n",
        "from scipy.io import wavfile\n",
        "import wave\n",
        "import os\n",
        "import numpy as np\n",
        "import matplotlib.pyplot as plt\n",
        "from pydub import AudioSegment\n",
        "import logging\n",
        "import librosa as lr\n",
        "import soundfile as sf\n",
        "from pysndfx.dsp import AudioEffectsChain\n",
        "import sox\n",
        "\n",
        "link = \"https://www.youtube.com/watch?v=KXBWXhK-dO4\"\n",
        "speed = 0.8\n",
        "ydl_opts = {\n",
        "    #'outtmpl': '/' + str(input) +'.%(mp3)s',\n",
        "    'format': 'bestaudio/best',\n",
        "    'postprocessors': [{\n",
        "        'key': 'FFmpegExtractAudio',\n",
        "        'preferredcodec': 'mp3',\n",
        "        'preferredquality': '320',\n",
        "\n",
        "    }],\n",
        "}\n",
        "\n",
        "with youtube_dl.YoutubeDL(ydl_opts) as ydl:\n",
        "    info_dict = ydl.extract_info(link, download=False)\n",
        "    title = info_dict.get('title', None)\n",
        "    id=video_id = info_dict.get(\"id\", None)\n",
        "    ful= title+' '+\"[slowed + reverb]\"+'.'+'mp3'\n",
        "    con= title+'-'+id+'.'+'mp3'\n",
        "    conc=con.replace(\"|\",\"_\")\n",
        "    full=ful.replace(\"|\",\"_\")\n",
        "    print(conc)\n",
        "    input=title+'.'+'mp3'\n",
        "    ydl.download([link])\n",
        "os.rename('./%s'%conc, \"input.mp3\")\n",
        "\n",
        "#------------------------------------------------------------------------------#\n",
        " #Define conversion format function\n",
        "def trans_mp3_to_wav(filepath):\n",
        "    song = AudioSegment.from_mp3(filepath)\n",
        "    song.export(\"temp.wav\", format=\"wav\")\n",
        "trans_mp3_to_wav(\"./input.mp3\")\n",
        "\n",
        "\n",
        "logger = logging.getLogger('pysndfx')\n",
        "logger.setLevel(logging.DEBUG)\n",
        "apply_audio_effects =     (AudioEffectsChain()\n",
        "     .speed(speed)\n",
        "     .reverb()\n",
        "    )\n",
        "infile = './temp.wav'\n",
        "mono, sr = lr.load(infile, sr=None)\n",
        "stereo, _ = lr.load(infile, sr=None, mono=False)\n",
        "outfile = 'output.wav'\n",
        "\n",
        "def test_file_to_file():\n",
        "    apply_audio_effects(infile, outfile)\n",
        "    y = lr.load(outfile, sr=None, mono=False)[0]\n",
        "    sf.write('output.wav', y.T, sr)\n",
        "    assert lr.util.valid_audio(y, mono=False)\n",
        "test_file_to_file()\n",
        "os.remove('./temp.wav')\n",
        "\n",
        "import pydub\n",
        "sound = pydub.AudioSegment.from_wav(\"./output.wav\")\n",
        "sound.export(\"final.mp3\", format=\"mp3\")\n",
        "os.remove('./output.wav')\n",
        "\n",
        "os.rename(\"final.mp3\",\"%s\"%full)\n",
        "os.rename(\"input.mp3\",\"%s\"%input)"
      ]
    },
    {
      "cell_type": "code",
      "source": [
        "!apt -qq install -y sox"
      ],
      "metadata": {
        "id": "2RtkLY-BxERI"
      },
      "execution_count": null,
      "outputs": []
    },
    {
      "cell_type": "code",
      "source": [
        "pip install glitch_this"
      ],
      "metadata": {
        "colab": {
          "base_uri": "https://localhost:8080/"
        },
        "id": "ftdTEYwi6-KM",
        "outputId": "e2859e16-4b65-4996-a6b7-351980054f2e"
      },
      "execution_count": 41,
      "outputs": [
        {
          "output_type": "stream",
          "name": "stdout",
          "text": [
            "Collecting glitch_this\n",
            "  Downloading glitch_this-1.0.2-py3-none-any.whl (14 kB)\n",
            "Requirement already satisfied: numpy>=1.18.1 in /usr/local/lib/python3.7/dist-packages (from glitch_this) (1.19.5)\n",
            "Requirement already satisfied: Pillow>=6.2.1 in /usr/local/lib/python3.7/dist-packages (from glitch_this) (7.1.2)\n",
            "Installing collected packages: glitch-this\n",
            "Successfully installed glitch-this-1.0.2\n"
          ]
        }
      ]
    },
    {
      "cell_type": "code",
      "source": [
        "from simple_youtube_api.Channel import Channel\n",
        "from simple_youtube_api.LocalVideo import LocalVideo\n",
        "import os\n",
        "import requests # to get image from the web\n",
        "import shutil # to save it locally\n",
        "\n",
        "## Set up the image URL and filename\n",
        "image_url = \"https://i.ytimg.com/vi/KXBWXhK-dO4/hq720.jpg?sqp=-oaymwEcCNAFEJQDSFXyq4qpAw4IARUAAIhCGAFwAcABBg==&rs=AOn4CLDNNBpK2fAlfAECMiiNZYWmL0wBZw\"\n",
        "filename = 'img.jpg'\n",
        "# Open the url image, set stream to True, this will return the stream content.\n",
        "\n",
        "r = requests.get(image_url, stream = True)\n",
        "# Check if the image was retrieved successfully\n",
        "if r.status_code == 200:\n",
        "    # Set decode_content value to True, otherwise the downloaded image file's size will be zero.\n",
        "    r.raw.decode_content = True\n",
        "\n",
        "    # Open a local file with wb ( write binary ) permission.\n",
        "    with open(filename,'wb') as f:\n",
        "        shutil.copyfileobj(r.raw, f)\n",
        "\n",
        "    print('Image sucessfully Downloaded: ',filename)\n",
        "else:\n",
        "    print('Image Couldn\\'t be retreived')\n",
        "#########################################################################################################\n",
        "bashCommand2 = \"glitch_this img.jpg 2.2 -s -c -f\"\n",
        "os.system(bashCommand2)\n",
        "\n",
        "name = \"Slyver - Helm _ سلايفر - حلم (Official Audio) (Prod by Alfy) [slowed + reverb]\"\n",
        "bashCommand = \"ffmpeg -i 'Slyver - Helm _ سلايفر - حلم (Official Audio) (Prod by Alfy) [slowed + reverb].mp3' -filter_complex aformat=channel_layouts=mono,showwaves=s=1280x202:mode=line -acodec copy videoMono.mp4\"\n",
        "#os.system(bashCommand)\n",
        "\n",
        "# loggin into the channel\n",
        "channel = Channel()\n",
        "channel.login(\"client_secret.json\", \"credentials.storage\")\n",
        "\n",
        "# setting up the video that is going to be uploaded\n",
        "video = LocalVideo(file_path=\"videoMono.mp4\")\n",
        "\n",
        "# setting snippet\n",
        "video.set_title(\"%s\" %name)\n",
        "video.set_description(\"I don't own music in this video,Uploaded using youtube API\")\n",
        "video.set_tags([\"this\", \"tag\"])\n",
        "video.set_category(\"music\")\n",
        "video.set_default_language(\"en-US\")\n",
        "\n",
        "# setting status\n",
        "video.set_embeddable(True)\n",
        "video.set_license(\"creativeCommon\")\n",
        "video.set_privacy_status(\"public\")\n",
        "video.set_public_stats_viewable(True)\n",
        "\n",
        "# setting thumbnail\n",
        "video.set_thumbnail_path('glitched_img.jpg')\n",
        "\n",
        "# uploading video and printing the results\n",
        "video = channel.upload_video(video)\n",
        "print(video.id)\n",
        "print(video)\n",
        "\n",
        "# liking video\n",
        "video.like()\n",
        "\n",
        "os.remove('./videoMono.mp4')"
      ],
      "metadata": {
        "colab": {
          "base_uri": "https://localhost:8080/"
        },
        "id": "YnZmhS8o2Hlp",
        "outputId": "9a3a1334-7d7d-4e5f-d0de-b8553a4a3d92"
      },
      "execution_count": 45,
      "outputs": [
        {
          "output_type": "stream",
          "name": "stdout",
          "text": [
            "Image sucessfully Downloaded:  img.jpg\n"
          ]
        },
        {
          "output_type": "stream",
          "name": "stderr",
          "text": [
            "\rUpload:   0% |/                                      | ETA:  --:--:--   0.0 s/B"
          ]
        },
        {
          "output_type": "stream",
          "name": "stdout",
          "text": [
            "Video size: 32002907 bytes\n"
          ]
        },
        {
          "output_type": "stream",
          "name": "stderr",
          "text": [
            "Upload: 100% ||                                      | Time:  0:00:14  66.7 B/s\n"
          ]
        },
        {
          "output_type": "stream",
          "name": "stdout",
          "text": [
            "JnR81pWMVfI\n",
            "Title: \n",
            "Description: \n",
            " Tags:[]\n"
          ]
        }
      ]
    }
  ]
}
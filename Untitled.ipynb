{
 "cells": [
  {
   "cell_type": "code",
   "execution_count": 2,
   "metadata": {
    "scrolled": false
   },
   "outputs": [
    {
     "name": "stdout",
     "output_type": "stream",
     "text": [
      "Enter link :  https://www.youtube.com/watch?v=D0pK_srJvj4\n",
      "Enter speed :  1.2\n",
      "[youtube] D0pK_srJvj4: Downloading webpage\n",
      "[download] Destination: Moscow - QUDAS _ موسكو - قداس (Official Music Video)-D0pK_srJvj4.webm\n",
      "[download] 100% of 2.74MiB in 00:03                  \n",
      "[ffmpeg] Destination: Moscow - QUDAS _ موسكو - قداس (Official Music Video)-D0pK_srJvj4.mp3\n",
      "Deleting original file Moscow - QUDAS _ موسكو - قداس (Official Music Video)-D0pK_srJvj4.webm (pass -k to keep)\n",
      "___________Youtube Downloader___________\n",
      "Change the downloaded file name to input.mp3 :  r\n"
     ]
    }
   ],
   "source": [
    "#SLOWED---WITH---LINK\n",
    "from __future__ import unicode_literals\n",
    "import youtube_dl\n",
    "link = input('Enter link :  ') \n",
    "speed = input('Enter speed :  ') \n",
    "ydl_opts = {\n",
    "    #'outtmpl': '/input.mp3',\n",
    "    'format': 'bestaudio/best',\n",
    "    'postprocessors': [{\n",
    "        'key': 'FFmpegExtractAudio',\n",
    "        'preferredcodec': 'mp3',\n",
    "        'preferredquality': '320',\n",
    "        \n",
    "    }],\n",
    "}\n",
    "with youtube_dl.YoutubeDL(ydl_opts) as ydl:\n",
    "    ydl.download([link]) \n",
    "    \n",
    "print('Youtube Downloader'.center(40, '_'))\n",
    "\n",
    "URL = input('Change the downloaded file name to input.mp3 :  ')    \n",
    "#------------------------------------------------------------------------------#    \n",
    "from scipy.io import wavfile\n",
    "import wave\n",
    "import os\n",
    "import numpy as np\n",
    "import matplotlib.pyplot as plt\n",
    "from pydub import AudioSegment\n",
    " #Define conversion format function\n",
    "def trans_mp3_to_wav(filepath):\n",
    "    song = AudioSegment.from_mp3(filepath)\n",
    "    song.export(\"temp.wav\", format=\"wav\")\n",
    "trans_mp3_to_wav(\"./input.mp3\")\n",
    "\n",
    "import logging\n",
    "import librosa as lr\n",
    "import soundfile as sf\n",
    "from pysndfx.dsp import AudioEffectsChain\n",
    "logger = logging.getLogger('pysndfx')\n",
    "logger.setLevel(logging.DEBUG)\n",
    "apply_audio_effects = \\\n",
    "    (AudioEffectsChain()\n",
    "     .speed(speed)\n",
    "     .reverb()\n",
    "    )\n",
    "infile = './temp.wav'\n",
    "mono, sr = lr.load(infile, sr=None)\n",
    "stereo, _ = lr.load(infile, sr=None, mono=False)\n",
    "outfile = 'output.wav'\n",
    "\n",
    "def test_file_to_file():\n",
    "    apply_audio_effects(infile, outfile)\n",
    "    y = lr.load(outfile, sr=None, mono=False)[0]\n",
    "    sf.write('output.wav', y.T, sr)\n",
    "    assert lr.util.valid_audio(y, mono=False)\n",
    "test_file_to_file()         \n",
    "os.remove('./temp.wav')"
   ]
  },
  {
   "cell_type": "code",
   "execution_count": 1,
   "metadata": {},
   "outputs": [
    {
     "name": "stdout",
     "output_type": "stream",
     "text": [
      "Enter speed :  1.5\n"
     ]
    },
    {
     "ename": "NameError",
     "evalue": "name 'os' is not defined",
     "output_type": "error",
     "traceback": [
      "\u001b[1;31m---------------------------------------------------------------------------\u001b[0m",
      "\u001b[1;31mNameError\u001b[0m                                 Traceback (most recent call last)",
      "\u001b[1;32m<ipython-input-1-fed1ca8a540b>\u001b[0m in \u001b[0;36m<module>\u001b[1;34m\u001b[0m\n\u001b[0;32m     38\u001b[0m \u001b[0mtest_file_to_file\u001b[0m\u001b[1;33m(\u001b[0m\u001b[1;33m)\u001b[0m\u001b[1;33m\u001b[0m\u001b[1;33m\u001b[0m\u001b[0m\n\u001b[0;32m     39\u001b[0m \u001b[1;33m\u001b[0m\u001b[0m\n\u001b[1;32m---> 40\u001b[1;33m \u001b[0mos\u001b[0m\u001b[1;33m.\u001b[0m\u001b[0mremove\u001b[0m\u001b[1;33m(\u001b[0m\u001b[1;34m'./temp.wav'\u001b[0m\u001b[1;33m)\u001b[0m\u001b[1;33m\u001b[0m\u001b[1;33m\u001b[0m\u001b[0m\n\u001b[0m",
      "\u001b[1;31mNameError\u001b[0m: name 'os' is not defined"
     ]
    }
   ],
   "source": [
    "#SLOWED---WITHOUT-----LINK\n",
    "#!/usr/bin/env python\n",
    "# coding: utf-8\n",
    "from scipy.io import wavfile\n",
    "import wave\n",
    "import numpy as np\n",
    "import matplotlib.pyplot as plt\n",
    "from pydub import AudioSegment\n",
    "speed = input('Enter speed :  ') \n",
    " #Define conversion format function\n",
    "def trans_mp3_to_wav(filepath):\n",
    "    song = AudioSegment.from_mp3(filepath)\n",
    "    song.export(\"temp.wav\", format=\"wav\")\n",
    "trans_mp3_to_wav(\"./input.mp3\")\n",
    "\n",
    "import logging\n",
    "import librosa as lr\n",
    "import soundfile as sf\n",
    "from pysndfx.dsp import AudioEffectsChain\n",
    "logger = logging.getLogger('pysndfx')\n",
    "logger.setLevel(logging.DEBUG)\n",
    "apply_audio_effects =     (AudioEffectsChain()\n",
    "     .speed(speed)\n",
    "     .reverb()\n",
    "     .lowshelf()\t\n",
    "     .highshelf()\n",
    "    )\n",
    "infile = './temp.wav'\n",
    "mono, sr = lr.load(infile, sr=None)\n",
    "stereo, _ = lr.load(infile, sr=None, mono=False)\n",
    "outfile = 'output.wav'\n",
    "\n",
    "def test_file_to_file():\n",
    "    apply_audio_effects(infile, outfile)\n",
    "    y = lr.load(outfile, sr=None, mono=False)[0]\n",
    "    sf.write('output.wav', y.T, sr)\n",
    "    assert lr.util.valid_audio(y, mono=False)\n",
    "test_file_to_file() \n",
    "\n",
    "os.remove('./temp.wav')\n"
   ]
  },
  {
   "cell_type": "code",
   "execution_count": 26,
   "metadata": {},
   "outputs": [
    {
     "ename": "ValueError",
     "evalue": "invalid literal for int() with base 10: b''",
     "output_type": "error",
     "traceback": [
      "\u001b[1;31m---------------------------------------------------------------------------\u001b[0m",
      "\u001b[1;31mValueError\u001b[0m                                Traceback (most recent call last)",
      "\u001b[1;32m<ipython-input-26-42a906ed9925>\u001b[0m in \u001b[0;36m<module>\u001b[1;34m\u001b[0m\n\u001b[0;32m     10\u001b[0m \u001b[0moutfile\u001b[0m \u001b[1;33m=\u001b[0m \u001b[1;34m'output.mp3'\u001b[0m\u001b[1;33m\u001b[0m\u001b[1;33m\u001b[0m\u001b[0m\n\u001b[0;32m     11\u001b[0m \u001b[1;33m\u001b[0m\u001b[0m\n\u001b[1;32m---> 12\u001b[1;33m \u001b[0mfx\u001b[0m\u001b[1;33m(\u001b[0m\u001b[0minfile\u001b[0m\u001b[1;33m,\u001b[0m \u001b[0moutfile\u001b[0m\u001b[1;33m)\u001b[0m\u001b[1;33m\u001b[0m\u001b[1;33m\u001b[0m\u001b[0m\n\u001b[0m\u001b[0;32m     13\u001b[0m \u001b[1;33m\u001b[0m\u001b[0m\n\u001b[0;32m     14\u001b[0m \u001b[1;33m\u001b[0m\u001b[0m\n",
      "\u001b[1;32m~\\anaconda3\\lib\\site-packages\\pysndfx\\dsp.py\u001b[0m in \u001b[0;36m__call__\u001b[1;34m(self, src, dst, sample_in, sample_out, encoding_out, channels_out, allow_clipping)\u001b[0m\n\u001b[0;32m    366\u001b[0m         \u001b[0mstdin\u001b[0m \u001b[1;33m=\u001b[0m \u001b[1;32mNone\u001b[0m\u001b[1;33m\u001b[0m\u001b[1;33m\u001b[0m\u001b[0m\n\u001b[0;32m    367\u001b[0m         \u001b[1;32mif\u001b[0m \u001b[0misinstance\u001b[0m\u001b[1;33m(\u001b[0m\u001b[0msrc\u001b[0m\u001b[1;33m,\u001b[0m \u001b[0mstr\u001b[0m\u001b[1;33m)\u001b[0m\u001b[1;33m:\u001b[0m\u001b[1;33m\u001b[0m\u001b[1;33m\u001b[0m\u001b[0m\n\u001b[1;32m--> 368\u001b[1;33m             \u001b[0minfile\u001b[0m \u001b[1;33m=\u001b[0m \u001b[0mFilePathInput\u001b[0m\u001b[1;33m(\u001b[0m\u001b[0msrc\u001b[0m\u001b[1;33m)\u001b[0m\u001b[1;33m\u001b[0m\u001b[1;33m\u001b[0m\u001b[0m\n\u001b[0m\u001b[0;32m    369\u001b[0m             \u001b[0mstdin\u001b[0m \u001b[1;33m=\u001b[0m \u001b[0msrc\u001b[0m\u001b[1;33m\u001b[0m\u001b[1;33m\u001b[0m\u001b[0m\n\u001b[0;32m    370\u001b[0m         \u001b[1;32melif\u001b[0m \u001b[0misinstance\u001b[0m\u001b[1;33m(\u001b[0m\u001b[0msrc\u001b[0m\u001b[1;33m,\u001b[0m \u001b[0mnp\u001b[0m\u001b[1;33m.\u001b[0m\u001b[0mndarray\u001b[0m\u001b[1;33m)\u001b[0m\u001b[1;33m:\u001b[0m\u001b[1;33m\u001b[0m\u001b[1;33m\u001b[0m\u001b[0m\n",
      "\u001b[1;32m~\\anaconda3\\lib\\site-packages\\pysndfx\\sndfiles.py\u001b[0m in \u001b[0;36m__init__\u001b[1;34m(self, filepath)\u001b[0m\n\u001b[0;32m     30\u001b[0m                                \u001b[0mstdout\u001b[0m\u001b[1;33m=\u001b[0m\u001b[0mPIPE\u001b[0m\u001b[1;33m,\u001b[0m\u001b[1;33m\u001b[0m\u001b[1;33m\u001b[0m\u001b[0m\n\u001b[0;32m     31\u001b[0m                                stderr=PIPE).communicate()\n\u001b[1;32m---> 32\u001b[1;33m         \u001b[0mself\u001b[0m\u001b[1;33m.\u001b[0m\u001b[0mchannels\u001b[0m \u001b[1;33m=\u001b[0m \u001b[0mint\u001b[0m\u001b[1;33m(\u001b[0m\u001b[0mstdout\u001b[0m\u001b[1;33m)\u001b[0m\u001b[1;33m\u001b[0m\u001b[1;33m\u001b[0m\u001b[0m\n\u001b[0m\u001b[0;32m     33\u001b[0m         \u001b[0mself\u001b[0m\u001b[1;33m.\u001b[0m\u001b[0mcmd_prefix\u001b[0m \u001b[1;33m=\u001b[0m \u001b[0mfilepath\u001b[0m\u001b[1;33m\u001b[0m\u001b[1;33m\u001b[0m\u001b[0m\n\u001b[0;32m     34\u001b[0m \u001b[1;33m\u001b[0m\u001b[0m\n",
      "\u001b[1;31mValueError\u001b[0m: invalid literal for int() with base 10: b''"
     ]
    }
   ],
   "source": [
    "#---------------------TEST mp3\n",
    "import pysndfx\n",
    "fx =(AudioEffectsChain()\n",
    "     .speed(speed)\n",
    "     .reverb()\n",
    "     .lowshelf()\t\n",
    "     .highshelf()\n",
    "    )\n",
    "infile = 'C:/Users/Lucifer/Downloads/slowed-reverb-master/input.mp3'\n",
    "outfile = 'output.mp3'\n",
    "\n",
    "fx(infile, outfile)\n",
    "\n",
    " "
   ]
  },
  {
   "cell_type": "code",
   "execution_count": null,
   "metadata": {},
   "outputs": [],
   "source": []
  }
 ],
 "metadata": {
  "kernelspec": {
   "display_name": "Python 3",
   "language": "python",
   "name": "python3"
  },
  "language_info": {
   "codemirror_mode": {
    "name": "ipython",
    "version": 3
   },
   "file_extension": ".py",
   "mimetype": "text/x-python",
   "name": "python",
   "nbconvert_exporter": "python",
   "pygments_lexer": "ipython3",
   "version": "3.8.3"
  }
 },
 "nbformat": 4,
 "nbformat_minor": 4
}
